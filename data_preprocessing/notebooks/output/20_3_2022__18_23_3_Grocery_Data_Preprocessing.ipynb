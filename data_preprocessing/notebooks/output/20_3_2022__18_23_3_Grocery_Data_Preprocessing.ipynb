{
 "cells": [
  {
   "cell_type": "code",
   "execution_count": 1,
   "id": "02a41ae7",
   "metadata": {
    "execution": {
     "iopub.execute_input": "2022-03-20T12:53:05.237560Z",
     "iopub.status.busy": "2022-03-20T12:53:05.237560Z",
     "iopub.status.idle": "2022-03-20T12:53:05.247178Z",
     "shell.execute_reply": "2022-03-20T12:53:05.246685Z"
    },
    "papermill": {
     "duration": 0.032261,
     "end_time": "2022-03-20T12:53:05.248252",
     "exception": false,
     "start_time": "2022-03-20T12:53:05.215991",
     "status": "completed"
    },
    "tags": [
     "injected-parameters"
    ]
   },
   "outputs": [],
   "source": [
    "# Parameters\n",
    "current_time = \"20_3_2022__18_23_3\"\n",
    "batch_id = 5\n",
    "source_data = \".//data//source//Grocery, Fruits and Dry Fruits.csv\"\n",
    "source_notebook = \".//notebooks//input//Grocery_Data_Preprocessing.ipynb\"\n",
    "preprocessed_data = \".//data//processed//20_3_2022__18_23_3_Grocery, Fruits and Dry Fruits.csv\"\n",
    "unprocessed_data = \".//data//unprocessed//20_3_2022__18_23_3_unprocessed_Grocery, Fruits and Dry Fruits.csv\"\n"
   ]
  },
  {
   "cell_type": "markdown",
   "id": "e8883b77",
   "metadata": {
    "papermill": {
     "duration": 0.014945,
     "end_time": "2022-03-20T12:53:05.280193",
     "exception": false,
     "start_time": "2022-03-20T12:53:05.265248",
     "status": "completed"
    },
    "tags": []
   },
   "source": [
    "# Reading the data into python"
   ]
  },
  {
   "cell_type": "code",
   "execution_count": 2,
   "id": "06421ae8",
   "metadata": {
    "execution": {
     "iopub.execute_input": "2022-03-20T12:53:05.312280Z",
     "iopub.status.busy": "2022-03-20T12:53:05.312280Z",
     "iopub.status.idle": "2022-03-20T12:53:05.324854Z",
     "shell.execute_reply": "2022-03-20T12:53:05.323387Z"
    },
    "papermill": {
     "duration": 0.029481,
     "end_time": "2022-03-20T12:53:05.325863",
     "exception": false,
     "start_time": "2022-03-20T12:53:05.296382",
     "status": "completed"
    },
    "tags": []
   },
   "outputs": [],
   "source": [
    "# Supressing the warning messages\n",
    "import warnings\n",
    "warnings.filterwarnings('ignore')"
   ]
  },
  {
   "cell_type": "code",
   "execution_count": 3,
   "id": "c90f469a",
   "metadata": {
    "execution": {
     "iopub.execute_input": "2022-03-20T12:53:05.358940Z",
     "iopub.status.busy": "2022-03-20T12:53:05.358940Z",
     "iopub.status.idle": "2022-03-20T12:53:05.806083Z",
     "shell.execute_reply": "2022-03-20T12:53:05.805087Z"
    },
    "papermill": {
     "duration": 0.46553,
     "end_time": "2022-03-20T12:53:05.808084",
     "exception": false,
     "start_time": "2022-03-20T12:53:05.342554",
     "status": "completed"
    },
    "tags": []
   },
   "outputs": [
    {
     "data": {
      "text/html": [
       "<div>\n",
       "<style scoped>\n",
       "    .dataframe tbody tr th:only-of-type {\n",
       "        vertical-align: middle;\n",
       "    }\n",
       "\n",
       "    .dataframe tbody tr th {\n",
       "        vertical-align: top;\n",
       "    }\n",
       "\n",
       "    .dataframe thead th {\n",
       "        text-align: right;\n",
       "    }\n",
       "</style>\n",
       "<table border=\"1\" class=\"dataframe\">\n",
       "  <thead>\n",
       "    <tr style=\"text-align: right;\">\n",
       "      <th></th>\n",
       "      <th>Category</th>\n",
       "      <th>Sub Category</th>\n",
       "      <th>Simplified Category</th>\n",
       "      <th>Brand Name</th>\n",
       "      <th>Product Name</th>\n",
       "      <th>Weight</th>\n",
       "      <th>MRP/Unit</th>\n",
       "      <th>Product ID</th>\n",
       "      <th>Image URL</th>\n",
       "      <th>Rating</th>\n",
       "      <th>No of Users Purchased</th>\n",
       "    </tr>\n",
       "  </thead>\n",
       "  <tbody>\n",
       "    <tr>\n",
       "      <th>14600</th>\n",
       "      <td>Beauty Hygiene</td>\n",
       "      <td>Bath Face Hand Wash</td>\n",
       "      <td>Groceries</td>\n",
       "      <td>Nivea</td>\n",
       "      <td>Lemon &amp; Oil Shower Gel - Pampering Care With R...</td>\n",
       "      <td>250 ml</td>\n",
       "      <td>225.0</td>\n",
       "      <td>202226601.0</td>\n",
       "      <td>https://www.bigbasket.com/media/uploads/p/s/29...</td>\n",
       "      <td>4.5</td>\n",
       "      <td>39</td>\n",
       "    </tr>\n",
       "    <tr>\n",
       "      <th>11335</th>\n",
       "      <td>Gourmet World Food</td>\n",
       "      <td>Drinks Beverages</td>\n",
       "      <td>Groceries</td>\n",
       "      <td>Monin</td>\n",
       "      <td>Syrup - Vanille Flavored</td>\n",
       "      <td>250 ml Bottle</td>\n",
       "      <td>395.0</td>\n",
       "      <td>202223336.0</td>\n",
       "      <td>https://www.bigbasket.com/media/uploads/p/s/40...</td>\n",
       "      <td>4.5</td>\n",
       "      <td>25</td>\n",
       "    </tr>\n",
       "    <tr>\n",
       "      <th>5386</th>\n",
       "      <td>Kitchen Garden Pets</td>\n",
       "      <td>Gardening</td>\n",
       "      <td>Groceries</td>\n",
       "      <td>Eco</td>\n",
       "      <td>Ready To Pot - Natural Fertilizer And Soil In ...</td>\n",
       "      <td>20 kg Pouch</td>\n",
       "      <td>735.0</td>\n",
       "      <td>202217387.0</td>\n",
       "      <td>https://www.bigbasket.com/media/uploads/p/s/40...</td>\n",
       "      <td>5.0</td>\n",
       "      <td>36</td>\n",
       "    </tr>\n",
       "    <tr>\n",
       "      <th>5265</th>\n",
       "      <td>Cleaning Household</td>\n",
       "      <td>Disposables Garbage Bag</td>\n",
       "      <td>Groceries</td>\n",
       "      <td>Ciphands</td>\n",
       "      <td>Germ Protection Wipes</td>\n",
       "      <td>40 pcs</td>\n",
       "      <td>140.0</td>\n",
       "      <td>202217266.0</td>\n",
       "      <td>https://www.bigbasket.com/media/uploads/p/s/40...</td>\n",
       "      <td>4.8</td>\n",
       "      <td>91</td>\n",
       "    </tr>\n",
       "    <tr>\n",
       "      <th>14017</th>\n",
       "      <td>Snacks Branded Foods</td>\n",
       "      <td>Chocolates Candies</td>\n",
       "      <td>Groceries</td>\n",
       "      <td>Cadbury</td>\n",
       "      <td>Chocolate Bar - Fuse</td>\n",
       "      <td>2x27.5 g Multipack</td>\n",
       "      <td>40.0</td>\n",
       "      <td>202226018.0</td>\n",
       "      <td>https://www.bigbasket.com/media/uploads/p/s/12...</td>\n",
       "      <td>4.3</td>\n",
       "      <td>59</td>\n",
       "    </tr>\n",
       "  </tbody>\n",
       "</table>\n",
       "</div>"
      ],
      "text/plain": [
       "                   Category             Sub Category Simplified Category  \\\n",
       "14600        Beauty Hygiene      Bath Face Hand Wash           Groceries   \n",
       "11335    Gourmet World Food         Drinks Beverages           Groceries   \n",
       "5386    Kitchen Garden Pets                Gardening           Groceries   \n",
       "5265     Cleaning Household  Disposables Garbage Bag           Groceries   \n",
       "14017  Snacks Branded Foods       Chocolates Candies           Groceries   \n",
       "\n",
       "      Brand Name                                       Product Name  \\\n",
       "14600      Nivea  Lemon & Oil Shower Gel - Pampering Care With R...   \n",
       "11335      Monin                           Syrup - Vanille Flavored   \n",
       "5386         Eco  Ready To Pot - Natural Fertilizer And Soil In ...   \n",
       "5265    Ciphands                              Germ Protection Wipes   \n",
       "14017    Cadbury                               Chocolate Bar - Fuse   \n",
       "\n",
       "                    Weight  MRP/Unit  Product ID   \\\n",
       "14600             250 ml       225.0  202226601.0   \n",
       "11335        250 ml Bottle     395.0  202223336.0   \n",
       "5386           20 kg Pouch     735.0  202217387.0   \n",
       "5265               40 pcs      140.0  202217266.0   \n",
       "14017  2x27.5 g Multipack       40.0  202226018.0   \n",
       "\n",
       "                                               Image URL  Rating   \\\n",
       "14600  https://www.bigbasket.com/media/uploads/p/s/29...      4.5   \n",
       "11335  https://www.bigbasket.com/media/uploads/p/s/40...      4.5   \n",
       "5386   https://www.bigbasket.com/media/uploads/p/s/40...      5.0   \n",
       "5265   https://www.bigbasket.com/media/uploads/p/s/40...      4.8   \n",
       "14017  https://www.bigbasket.com/media/uploads/p/s/12...      4.3   \n",
       "\n",
       "       No of Users Purchased  \n",
       "14600                     39  \n",
       "11335                     25  \n",
       "5386                      36  \n",
       "5265                      91  \n",
       "14017                     59  "
      ]
     },
     "execution_count": 3,
     "metadata": {},
     "output_type": "execute_result"
    }
   ],
   "source": [
    "# Reading the dataset\n",
    "import pandas as pd\n",
    "import numpy as np\n",
    "\n",
    "\n",
    "inventory_df = pd.read_csv(open(source_data))\n",
    "inventory_df.sample(5)"
   ]
  },
  {
   "cell_type": "code",
   "execution_count": 4,
   "id": "2d338e75",
   "metadata": {
    "execution": {
     "iopub.execute_input": "2022-03-20T12:53:05.844923Z",
     "iopub.status.busy": "2022-03-20T12:53:05.844837Z",
     "iopub.status.idle": "2022-03-20T12:53:05.883873Z",
     "shell.execute_reply": "2022-03-20T12:53:05.883586Z"
    },
    "papermill": {
     "duration": 0.060834,
     "end_time": "2022-03-20T12:53:05.886023",
     "exception": false,
     "start_time": "2022-03-20T12:53:05.825189",
     "status": "completed"
    },
    "tags": []
   },
   "outputs": [
    {
     "name": "stdout",
     "output_type": "stream",
     "text": [
      "Shape before deleting duplicate values: (17609, 11)\n",
      "Shape After deleting duplicate values: (17609, 11)\n"
     ]
    },
    {
     "data": {
      "text/html": [
       "<div>\n",
       "<style scoped>\n",
       "    .dataframe tbody tr th:only-of-type {\n",
       "        vertical-align: middle;\n",
       "    }\n",
       "\n",
       "    .dataframe tbody tr th {\n",
       "        vertical-align: top;\n",
       "    }\n",
       "\n",
       "    .dataframe thead th {\n",
       "        text-align: right;\n",
       "    }\n",
       "</style>\n",
       "<table border=\"1\" class=\"dataframe\">\n",
       "  <thead>\n",
       "    <tr style=\"text-align: right;\">\n",
       "      <th></th>\n",
       "      <th>Category</th>\n",
       "      <th>Sub Category</th>\n",
       "      <th>Simplified Category</th>\n",
       "      <th>Brand Name</th>\n",
       "      <th>Product Name</th>\n",
       "      <th>Weight</th>\n",
       "      <th>MRP/Unit</th>\n",
       "      <th>Product ID</th>\n",
       "      <th>Image URL</th>\n",
       "      <th>Rating</th>\n",
       "      <th>No of Users Purchased</th>\n",
       "    </tr>\n",
       "  </thead>\n",
       "  <tbody>\n",
       "    <tr>\n",
       "      <th>785</th>\n",
       "      <td>Foodgrains Oil Masala</td>\n",
       "      <td>Flours Sooji</td>\n",
       "      <td>Groceries</td>\n",
       "      <td>BB Royal</td>\n",
       "      <td>Basmati Rice - Mogra, Broken/Tukda 5 Kg + Whea...</td>\n",
       "      <td>Combo 2 Pcs</td>\n",
       "      <td>880.0</td>\n",
       "      <td>202212786.0</td>\n",
       "      <td>https://www.bigbasket.com/media/uploads/p/s/12...</td>\n",
       "      <td>4.8</td>\n",
       "      <td>29</td>\n",
       "    </tr>\n",
       "    <tr>\n",
       "      <th>1706</th>\n",
       "      <td>Beauty Hygiene</td>\n",
       "      <td>Makeup</td>\n",
       "      <td>Groceries</td>\n",
       "      <td>Gala Of London</td>\n",
       "      <td>Classic Sindoor - Rich &amp; Long-Lasting Colour, ...</td>\n",
       "      <td>7 ml 01 Red</td>\n",
       "      <td>110.0</td>\n",
       "      <td>202213707.0</td>\n",
       "      <td>https://www.bigbasket.com/media/uploads/p/s/40...</td>\n",
       "      <td>4.0</td>\n",
       "      <td>44</td>\n",
       "    </tr>\n",
       "    <tr>\n",
       "      <th>615</th>\n",
       "      <td>Snacks Branded Foods</td>\n",
       "      <td>Breakfast Cereals</td>\n",
       "      <td>Groceries</td>\n",
       "      <td>Timios</td>\n",
       "      <td>Breakfast Cereals - Crunchies, 100% Natural &amp; ...</td>\n",
       "      <td>300 g</td>\n",
       "      <td>160.0</td>\n",
       "      <td>202212616.0</td>\n",
       "      <td>https://www.bigbasket.com/media/uploads/p/s/40...</td>\n",
       "      <td>4.9</td>\n",
       "      <td>27</td>\n",
       "    </tr>\n",
       "    <tr>\n",
       "      <th>16576</th>\n",
       "      <td>Gourmet World Food</td>\n",
       "      <td>Oils Vinegar</td>\n",
       "      <td>Groceries</td>\n",
       "      <td>BORGES</td>\n",
       "      <td>Olive Oil - Classic</td>\n",
       "      <td>250 ml</td>\n",
       "      <td>375.0</td>\n",
       "      <td>202228577.0</td>\n",
       "      <td>https://www.bigbasket.com/media/uploads/p/s/40...</td>\n",
       "      <td>4.9</td>\n",
       "      <td>32</td>\n",
       "    </tr>\n",
       "    <tr>\n",
       "      <th>5178</th>\n",
       "      <td>Beauty Hygiene</td>\n",
       "      <td>Health Medicine</td>\n",
       "      <td>Groceries</td>\n",
       "      <td>Kare In</td>\n",
       "      <td>Kare in Adult Under Pads Large</td>\n",
       "      <td>10 Pcs Pouch</td>\n",
       "      <td>299.0</td>\n",
       "      <td>202217179.0</td>\n",
       "      <td>https://www.bigbasket.com/media/uploads/p/s/40...</td>\n",
       "      <td>4.3</td>\n",
       "      <td>71</td>\n",
       "    </tr>\n",
       "  </tbody>\n",
       "</table>\n",
       "</div>"
      ],
      "text/plain": [
       "                    Category       Sub Category Simplified Category  \\\n",
       "785    Foodgrains Oil Masala       Flours Sooji           Groceries   \n",
       "1706          Beauty Hygiene             Makeup           Groceries   \n",
       "615     Snacks Branded Foods  Breakfast Cereals           Groceries   \n",
       "16576     Gourmet World Food       Oils Vinegar           Groceries   \n",
       "5178          Beauty Hygiene    Health Medicine           Groceries   \n",
       "\n",
       "           Brand Name                                       Product Name  \\\n",
       "785          BB Royal  Basmati Rice - Mogra, Broken/Tukda 5 Kg + Whea...   \n",
       "1706   Gala Of London  Classic Sindoor - Rich & Long-Lasting Colour, ...   \n",
       "615            Timios  Breakfast Cereals - Crunchies, 100% Natural & ...   \n",
       "16576          BORGES                                Olive Oil - Classic   \n",
       "5178          Kare In                     Kare in Adult Under Pads Large   \n",
       "\n",
       "             Weight  MRP/Unit  Product ID   \\\n",
       "785     Combo 2 Pcs     880.0  202212786.0   \n",
       "1706    7 ml 01 Red     110.0  202213707.0   \n",
       "615         300 g       160.0  202212616.0   \n",
       "16576       250 ml      375.0  202228577.0   \n",
       "5178   10 Pcs Pouch     299.0  202217179.0   \n",
       "\n",
       "                                               Image URL  Rating   \\\n",
       "785    https://www.bigbasket.com/media/uploads/p/s/12...      4.8   \n",
       "1706   https://www.bigbasket.com/media/uploads/p/s/40...      4.0   \n",
       "615    https://www.bigbasket.com/media/uploads/p/s/40...      4.9   \n",
       "16576  https://www.bigbasket.com/media/uploads/p/s/40...      4.9   \n",
       "5178   https://www.bigbasket.com/media/uploads/p/s/40...      4.3   \n",
       "\n",
       "       No of Users Purchased  \n",
       "785                       29  \n",
       "1706                      44  \n",
       "615                       27  \n",
       "16576                     32  \n",
       "5178                      71  "
      ]
     },
     "execution_count": 4,
     "metadata": {},
     "output_type": "execute_result"
    }
   ],
   "source": [
    "print('Shape before deleting duplicate values:', inventory_df.shape)\n",
    "\n",
    "# Removing duplicate rows if any\n",
    "inventory_df = inventory_df.drop_duplicates()\n",
    "print('Shape After deleting duplicate values:', inventory_df.shape)\n",
    "\n",
    "# Printing sample data\n",
    "inventory_df.sample(5)"
   ]
  },
  {
   "cell_type": "markdown",
   "id": "b9f46529",
   "metadata": {
    "papermill": {
     "duration": 0.016,
     "end_time": "2022-03-20T12:53:05.918527",
     "exception": false,
     "start_time": "2022-03-20T12:53:05.902527",
     "status": "completed"
    },
    "tags": []
   },
   "source": [
    "# Defining the problem statement"
   ]
  },
  {
   "cell_type": "markdown",
   "id": "f3a8ddd9",
   "metadata": {
    "papermill": {
     "duration": 0.016348,
     "end_time": "2022-03-20T12:53:05.952879",
     "exception": false,
     "start_time": "2022-03-20T12:53:05.936531",
     "status": "completed"
    },
    "tags": []
   },
   "source": [
    "#### Create a predictive model which gives relevant products recommendations\n",
    "\n",
    "Predictors: Category, Sub Category, Brand Name, Product Rating, Name"
   ]
  },
  {
   "cell_type": "markdown",
   "id": "b07433c8",
   "metadata": {
    "papermill": {
     "duration": 0.016253,
     "end_time": "2022-03-20T12:53:05.985115",
     "exception": false,
     "start_time": "2022-03-20T12:53:05.968862",
     "status": "completed"
    },
    "tags": []
   },
   "source": [
    "# Basic Data Exploration"
   ]
  },
  {
   "cell_type": "code",
   "execution_count": 5,
   "id": "4ff9b943",
   "metadata": {
    "execution": {
     "iopub.execute_input": "2022-03-20T12:53:06.021156Z",
     "iopub.status.busy": "2022-03-20T12:53:06.020251Z",
     "iopub.status.idle": "2022-03-20T12:53:06.039534Z",
     "shell.execute_reply": "2022-03-20T12:53:06.039306Z"
    },
    "papermill": {
     "duration": 0.038445,
     "end_time": "2022-03-20T12:53:06.040649",
     "exception": false,
     "start_time": "2022-03-20T12:53:06.002204",
     "status": "completed"
    },
    "tags": []
   },
   "outputs": [
    {
     "data": {
      "text/html": [
       "<div>\n",
       "<style scoped>\n",
       "    .dataframe tbody tr th:only-of-type {\n",
       "        vertical-align: middle;\n",
       "    }\n",
       "\n",
       "    .dataframe tbody tr th {\n",
       "        vertical-align: top;\n",
       "    }\n",
       "\n",
       "    .dataframe thead th {\n",
       "        text-align: right;\n",
       "    }\n",
       "</style>\n",
       "<table border=\"1\" class=\"dataframe\">\n",
       "  <thead>\n",
       "    <tr style=\"text-align: right;\">\n",
       "      <th></th>\n",
       "      <th>Category</th>\n",
       "      <th>Sub Category</th>\n",
       "      <th>Simplified Category</th>\n",
       "      <th>Brand Name</th>\n",
       "      <th>Product Name</th>\n",
       "      <th>Weight</th>\n",
       "      <th>MRP/Unit</th>\n",
       "      <th>Product ID</th>\n",
       "      <th>Image URL</th>\n",
       "      <th>Rating</th>\n",
       "      <th>No of Users Purchased</th>\n",
       "    </tr>\n",
       "  </thead>\n",
       "  <tbody>\n",
       "    <tr>\n",
       "      <th>17122</th>\n",
       "      <td>Kitchen Garden Pets</td>\n",
       "      <td>Crockery Cutlery</td>\n",
       "      <td>Groceries</td>\n",
       "      <td>BB Home</td>\n",
       "      <td>Steel Table Knife - Classic Jazz Series, BBCL15</td>\n",
       "      <td>2 pcs</td>\n",
       "      <td>199.0</td>\n",
       "      <td>202229123.0</td>\n",
       "      <td>https://www.bigbasket.com/media/uploads/p/s/40...</td>\n",
       "      <td>4.5</td>\n",
       "      <td>55</td>\n",
       "    </tr>\n",
       "    <tr>\n",
       "      <th>8567</th>\n",
       "      <td>Kitchen Garden Pets</td>\n",
       "      <td>Pet Food Accessories</td>\n",
       "      <td>Groceries</td>\n",
       "      <td>Whiskas</td>\n",
       "      <td>Adult Wet Cat Food - Super Saver Pack, 1+ Year...</td>\n",
       "      <td>85 g Pack of 48</td>\n",
       "      <td>1680.0</td>\n",
       "      <td>202220568.0</td>\n",
       "      <td>https://www.bigbasket.com/media/uploads/p/s/40...</td>\n",
       "      <td>4.2</td>\n",
       "      <td>64</td>\n",
       "    </tr>\n",
       "    <tr>\n",
       "      <th>13207</th>\n",
       "      <td>Kitchen Garden Pets</td>\n",
       "      <td>Pet Food Accessories</td>\n",
       "      <td>Groceries</td>\n",
       "      <td>Himalaya Pet Care</td>\n",
       "      <td>Scavon - Vet Spray</td>\n",
       "      <td>100 ml</td>\n",
       "      <td>150.0</td>\n",
       "      <td>202225208.0</td>\n",
       "      <td>https://www.bigbasket.com/media/uploads/p/s/40...</td>\n",
       "      <td>4.7</td>\n",
       "      <td>53</td>\n",
       "    </tr>\n",
       "    <tr>\n",
       "      <th>12630</th>\n",
       "      <td>Kitchen Garden Pets</td>\n",
       "      <td>Bakeware</td>\n",
       "      <td>Groceries</td>\n",
       "      <td>Casasunco</td>\n",
       "      <td>Silicon Spatula - Wooden Handle, Blue/Grey - F...</td>\n",
       "      <td>1 pc</td>\n",
       "      <td>339.0</td>\n",
       "      <td>202224631.0</td>\n",
       "      <td>https://www.bigbasket.com/media/uploads/p/s/40...</td>\n",
       "      <td>4.8</td>\n",
       "      <td>96</td>\n",
       "    </tr>\n",
       "    <tr>\n",
       "      <th>2594</th>\n",
       "      <td>Snacks Branded Foods</td>\n",
       "      <td>Spreads Sauces Ketchup</td>\n",
       "      <td>Groceries</td>\n",
       "      <td>La Vieja Fabrica</td>\n",
       "      <td>Spread - Peach</td>\n",
       "      <td>350 g</td>\n",
       "      <td>340.0</td>\n",
       "      <td>202214595.0</td>\n",
       "      <td>https://www.bigbasket.com/media/uploads/p/s/40...</td>\n",
       "      <td>4.1</td>\n",
       "      <td>49</td>\n",
       "    </tr>\n",
       "  </tbody>\n",
       "</table>\n",
       "</div>"
      ],
      "text/plain": [
       "                   Category            Sub Category Simplified Category  \\\n",
       "17122   Kitchen Garden Pets        Crockery Cutlery           Groceries   \n",
       "8567    Kitchen Garden Pets    Pet Food Accessories           Groceries   \n",
       "13207   Kitchen Garden Pets    Pet Food Accessories           Groceries   \n",
       "12630   Kitchen Garden Pets                Bakeware           Groceries   \n",
       "2594   Snacks Branded Foods  Spreads Sauces Ketchup           Groceries   \n",
       "\n",
       "              Brand Name                                       Product Name  \\\n",
       "17122            BB Home    Steel Table Knife - Classic Jazz Series, BBCL15   \n",
       "8567             Whiskas  Adult Wet Cat Food - Super Saver Pack, 1+ Year...   \n",
       "13207  Himalaya Pet Care                                 Scavon - Vet Spray   \n",
       "12630          Casasunco  Silicon Spatula - Wooden Handle, Blue/Grey - F...   \n",
       "2594    La Vieja Fabrica                                     Spread - Peach   \n",
       "\n",
       "                Weight  MRP/Unit  Product ID   \\\n",
       "17122           2 pcs      199.0  202229123.0   \n",
       "8567   85 g Pack of 48    1680.0  202220568.0   \n",
       "13207          100 ml      150.0  202225208.0   \n",
       "12630            1 pc      339.0  202224631.0   \n",
       "2594            350 g      340.0  202214595.0   \n",
       "\n",
       "                                               Image URL  Rating   \\\n",
       "17122  https://www.bigbasket.com/media/uploads/p/s/40...      4.5   \n",
       "8567   https://www.bigbasket.com/media/uploads/p/s/40...      4.2   \n",
       "13207  https://www.bigbasket.com/media/uploads/p/s/40...      4.7   \n",
       "12630  https://www.bigbasket.com/media/uploads/p/s/40...      4.8   \n",
       "2594   https://www.bigbasket.com/media/uploads/p/s/40...      4.1   \n",
       "\n",
       "       No of Users Purchased  \n",
       "17122                     55  \n",
       "8567                      64  \n",
       "13207                     53  \n",
       "12630                     96  \n",
       "2594                      49  "
      ]
     },
     "execution_count": 5,
     "metadata": {},
     "output_type": "execute_result"
    }
   ],
   "source": [
    "# Looking at the sample rows in the data\n",
    "inventory_df.sample(5)"
   ]
  },
  {
   "cell_type": "code",
   "execution_count": 6,
   "id": "1e5ee969",
   "metadata": {
    "execution": {
     "iopub.execute_input": "2022-03-20T12:53:06.076507Z",
     "iopub.status.busy": "2022-03-20T12:53:06.076507Z",
     "iopub.status.idle": "2022-03-20T12:53:06.102132Z",
     "shell.execute_reply": "2022-03-20T12:53:06.101123Z"
    },
    "papermill": {
     "duration": 0.044626,
     "end_time": "2022-03-20T12:53:06.103178",
     "exception": false,
     "start_time": "2022-03-20T12:53:06.058552",
     "status": "completed"
    },
    "tags": []
   },
   "outputs": [
    {
     "name": "stdout",
     "output_type": "stream",
     "text": [
      "<class 'pandas.core.frame.DataFrame'>\n",
      "Int64Index: 17609 entries, 0 to 17608\n",
      "Data columns (total 11 columns):\n",
      " #   Column                 Non-Null Count  Dtype  \n",
      "---  ------                 --------------  -----  \n",
      " 0   Category               17609 non-null  object \n",
      " 1   Sub Category           17609 non-null  object \n",
      " 2   Simplified Category    17609 non-null  object \n",
      " 3   Brand Name             17608 non-null  object \n",
      " 4   Product Name           17609 non-null  object \n",
      " 5   Weight                 17609 non-null  object \n",
      " 6   MRP/Unit               17609 non-null  float64\n",
      " 7   Product ID             17609 non-null  float64\n",
      " 8   Image URL              17609 non-null  object \n",
      " 9   Rating                 17609 non-null  float64\n",
      " 10  No of Users Purchased  17609 non-null  int64  \n",
      "dtypes: float64(3), int64(1), object(7)\n",
      "memory usage: 1.6+ MB\n"
     ]
    }
   ],
   "source": [
    "# Observing the summarized information of data\n",
    "# Data types, Missing values based on number of non-null values Vs total rows etc.\n",
    "# Remove those variables from data which have too many missing values (Missing Values > 30%)\n",
    "# Remove Qualitative variables which cannot be used in Machine Learning\n",
    "inventory_df.info()"
   ]
  },
  {
   "cell_type": "code",
   "execution_count": 7,
   "id": "6e16d49f",
   "metadata": {
    "execution": {
     "iopub.execute_input": "2022-03-20T12:53:06.139705Z",
     "iopub.status.busy": "2022-03-20T12:53:06.138706Z",
     "iopub.status.idle": "2022-03-20T12:53:06.177773Z",
     "shell.execute_reply": "2022-03-20T12:53:06.177664Z"
    },
    "papermill": {
     "duration": 0.05945,
     "end_time": "2022-03-20T12:53:06.179821",
     "exception": false,
     "start_time": "2022-03-20T12:53:06.120371",
     "status": "completed"
    },
    "tags": []
   },
   "outputs": [
    {
     "data": {
      "text/html": [
       "<div>\n",
       "<style scoped>\n",
       "    .dataframe tbody tr th:only-of-type {\n",
       "        vertical-align: middle;\n",
       "    }\n",
       "\n",
       "    .dataframe tbody tr th {\n",
       "        vertical-align: top;\n",
       "    }\n",
       "\n",
       "    .dataframe thead th {\n",
       "        text-align: right;\n",
       "    }\n",
       "</style>\n",
       "<table border=\"1\" class=\"dataframe\">\n",
       "  <thead>\n",
       "    <tr style=\"text-align: right;\">\n",
       "      <th></th>\n",
       "      <th>Category</th>\n",
       "      <th>Sub Category</th>\n",
       "      <th>Simplified Category</th>\n",
       "      <th>Brand Name</th>\n",
       "      <th>Product Name</th>\n",
       "      <th>Weight</th>\n",
       "      <th>MRP/Unit</th>\n",
       "      <th>Product ID</th>\n",
       "      <th>Image URL</th>\n",
       "      <th>Rating</th>\n",
       "      <th>No of Users Purchased</th>\n",
       "    </tr>\n",
       "  </thead>\n",
       "  <tbody>\n",
       "    <tr>\n",
       "      <th>count</th>\n",
       "      <td>17609</td>\n",
       "      <td>17609</td>\n",
       "      <td>17609</td>\n",
       "      <td>17608</td>\n",
       "      <td>17609</td>\n",
       "      <td>17609</td>\n",
       "      <td>17609.000000</td>\n",
       "      <td>1.760900e+04</td>\n",
       "      <td>17609</td>\n",
       "      <td>17609.000000</td>\n",
       "      <td>17609.000000</td>\n",
       "    </tr>\n",
       "    <tr>\n",
       "      <th>unique</th>\n",
       "      <td>10</td>\n",
       "      <td>89</td>\n",
       "      <td>4</td>\n",
       "      <td>1510</td>\n",
       "      <td>11059</td>\n",
       "      <td>2909</td>\n",
       "      <td>NaN</td>\n",
       "      <td>NaN</td>\n",
       "      <td>12073</td>\n",
       "      <td>NaN</td>\n",
       "      <td>NaN</td>\n",
       "    </tr>\n",
       "    <tr>\n",
       "      <th>top</th>\n",
       "      <td>Gourmet World Food</td>\n",
       "      <td>Spreads Sauces Ketchup</td>\n",
       "      <td>Groceries</td>\n",
       "      <td>Fresho</td>\n",
       "      <td>Soft Drink</td>\n",
       "      <td>1 pc</td>\n",
       "      <td>NaN</td>\n",
       "      <td>NaN</td>\n",
       "      <td>https://www.bbassets.com/static/images/product...</td>\n",
       "      <td>NaN</td>\n",
       "      <td>NaN</td>\n",
       "    </tr>\n",
       "    <tr>\n",
       "      <th>freq</th>\n",
       "      <td>2657</td>\n",
       "      <td>432</td>\n",
       "      <td>16925</td>\n",
       "      <td>941</td>\n",
       "      <td>23</td>\n",
       "      <td>1227</td>\n",
       "      <td>NaN</td>\n",
       "      <td>NaN</td>\n",
       "      <td>17</td>\n",
       "      <td>NaN</td>\n",
       "      <td>NaN</td>\n",
       "    </tr>\n",
       "    <tr>\n",
       "      <th>mean</th>\n",
       "      <td>NaN</td>\n",
       "      <td>NaN</td>\n",
       "      <td>NaN</td>\n",
       "      <td>NaN</td>\n",
       "      <td>NaN</td>\n",
       "      <td>NaN</td>\n",
       "      <td>348.130872</td>\n",
       "      <td>2.136807e+08</td>\n",
       "      <td>NaN</td>\n",
       "      <td>4.501477</td>\n",
       "      <td>62.471691</td>\n",
       "    </tr>\n",
       "    <tr>\n",
       "      <th>std</th>\n",
       "      <td>NaN</td>\n",
       "      <td>NaN</td>\n",
       "      <td>NaN</td>\n",
       "      <td>NaN</td>\n",
       "      <td>NaN</td>\n",
       "      <td>NaN</td>\n",
       "      <td>521.612084</td>\n",
       "      <td>1.520719e+09</td>\n",
       "      <td>NaN</td>\n",
       "      <td>0.291768</td>\n",
       "      <td>21.989370</td>\n",
       "    </tr>\n",
       "    <tr>\n",
       "      <th>min</th>\n",
       "      <td>NaN</td>\n",
       "      <td>NaN</td>\n",
       "      <td>NaN</td>\n",
       "      <td>NaN</td>\n",
       "      <td>NaN</td>\n",
       "      <td>NaN</td>\n",
       "      <td>3.000000</td>\n",
       "      <td>2.022120e+08</td>\n",
       "      <td>NaN</td>\n",
       "      <td>4.000000</td>\n",
       "      <td>25.000000</td>\n",
       "    </tr>\n",
       "    <tr>\n",
       "      <th>25%</th>\n",
       "      <td>NaN</td>\n",
       "      <td>NaN</td>\n",
       "      <td>NaN</td>\n",
       "      <td>NaN</td>\n",
       "      <td>NaN</td>\n",
       "      <td>NaN</td>\n",
       "      <td>95.000000</td>\n",
       "      <td>2.022164e+08</td>\n",
       "      <td>NaN</td>\n",
       "      <td>4.300000</td>\n",
       "      <td>43.000000</td>\n",
       "    </tr>\n",
       "    <tr>\n",
       "      <th>50%</th>\n",
       "      <td>NaN</td>\n",
       "      <td>NaN</td>\n",
       "      <td>NaN</td>\n",
       "      <td>NaN</td>\n",
       "      <td>NaN</td>\n",
       "      <td>NaN</td>\n",
       "      <td>199.000000</td>\n",
       "      <td>2.022208e+08</td>\n",
       "      <td>NaN</td>\n",
       "      <td>4.500000</td>\n",
       "      <td>63.000000</td>\n",
       "    </tr>\n",
       "    <tr>\n",
       "      <th>75%</th>\n",
       "      <td>NaN</td>\n",
       "      <td>NaN</td>\n",
       "      <td>NaN</td>\n",
       "      <td>NaN</td>\n",
       "      <td>NaN</td>\n",
       "      <td>NaN</td>\n",
       "      <td>399.000000</td>\n",
       "      <td>2.022252e+08</td>\n",
       "      <td>NaN</td>\n",
       "      <td>4.700000</td>\n",
       "      <td>81.000000</td>\n",
       "    </tr>\n",
       "    <tr>\n",
       "      <th>max</th>\n",
       "      <td>NaN</td>\n",
       "      <td>NaN</td>\n",
       "      <td>NaN</td>\n",
       "      <td>NaN</td>\n",
       "      <td>NaN</td>\n",
       "      <td>NaN</td>\n",
       "      <td>12500.000000</td>\n",
       "      <td>2.020000e+11</td>\n",
       "      <td>NaN</td>\n",
       "      <td>5.000000</td>\n",
       "      <td>100.000000</td>\n",
       "    </tr>\n",
       "  </tbody>\n",
       "</table>\n",
       "</div>"
      ],
      "text/plain": [
       "                  Category            Sub Category Simplified Category  \\\n",
       "count                17609                   17609               17609   \n",
       "unique                  10                      89                   4   \n",
       "top     Gourmet World Food  Spreads Sauces Ketchup           Groceries   \n",
       "freq                  2657                     432               16925   \n",
       "mean                   NaN                     NaN                 NaN   \n",
       "std                    NaN                     NaN                 NaN   \n",
       "min                    NaN                     NaN                 NaN   \n",
       "25%                    NaN                     NaN                 NaN   \n",
       "50%                    NaN                     NaN                 NaN   \n",
       "75%                    NaN                     NaN                 NaN   \n",
       "max                    NaN                     NaN                 NaN   \n",
       "\n",
       "       Brand Name Product Name Weight      MRP/Unit   Product ID   \\\n",
       "count       17608        17609  17609  17609.000000  1.760900e+04   \n",
       "unique       1510        11059   2909           NaN           NaN   \n",
       "top        Fresho   Soft Drink  1 pc            NaN           NaN   \n",
       "freq          941           23   1227           NaN           NaN   \n",
       "mean          NaN          NaN    NaN    348.130872  2.136807e+08   \n",
       "std           NaN          NaN    NaN    521.612084  1.520719e+09   \n",
       "min           NaN          NaN    NaN      3.000000  2.022120e+08   \n",
       "25%           NaN          NaN    NaN     95.000000  2.022164e+08   \n",
       "50%           NaN          NaN    NaN    199.000000  2.022208e+08   \n",
       "75%           NaN          NaN    NaN    399.000000  2.022252e+08   \n",
       "max           NaN          NaN    NaN  12500.000000  2.020000e+11   \n",
       "\n",
       "                                                Image URL       Rating   \\\n",
       "count                                               17609  17609.000000   \n",
       "unique                                              12073           NaN   \n",
       "top     https://www.bbassets.com/static/images/product...           NaN   \n",
       "freq                                                   17           NaN   \n",
       "mean                                                  NaN      4.501477   \n",
       "std                                                   NaN      0.291768   \n",
       "min                                                   NaN      4.000000   \n",
       "25%                                                   NaN      4.300000   \n",
       "50%                                                   NaN      4.500000   \n",
       "75%                                                   NaN      4.700000   \n",
       "max                                                   NaN      5.000000   \n",
       "\n",
       "        No of Users Purchased  \n",
       "count            17609.000000  \n",
       "unique                    NaN  \n",
       "top                       NaN  \n",
       "freq                      NaN  \n",
       "mean                62.471691  \n",
       "std                 21.989370  \n",
       "min                 25.000000  \n",
       "25%                 43.000000  \n",
       "50%                 63.000000  \n",
       "75%                 81.000000  \n",
       "max                100.000000  "
      ]
     },
     "execution_count": 7,
     "metadata": {},
     "output_type": "execute_result"
    }
   ],
   "source": [
    "# Looking at the descriptive statistics of the data\n",
    "inventory_df.describe(include='all')"
   ]
  },
  {
   "cell_type": "code",
   "execution_count": 8,
   "id": "2b0b1d03",
   "metadata": {
    "execution": {
     "iopub.execute_input": "2022-03-20T12:53:06.219168Z",
     "iopub.status.busy": "2022-03-20T12:53:06.219168Z",
     "iopub.status.idle": "2022-03-20T12:53:06.240524Z",
     "shell.execute_reply": "2022-03-20T12:53:06.239923Z"
    },
    "papermill": {
     "duration": 0.043297,
     "end_time": "2022-03-20T12:53:06.242492",
     "exception": false,
     "start_time": "2022-03-20T12:53:06.199195",
     "status": "completed"
    },
    "tags": []
   },
   "outputs": [
    {
     "data": {
      "text/plain": [
       "Category                    10\n",
       "Sub Category                89\n",
       "Simplified Category          4\n",
       "Brand Name                1510\n",
       "Product Name             11059\n",
       "Weight                    2909\n",
       "MRP/Unit                  1090\n",
       "Product ID               17608\n",
       "Image URL                12073\n",
       "Rating                      11\n",
       "No of Users Purchased       76\n",
       "dtype: int64"
      ]
     },
     "execution_count": 8,
     "metadata": {},
     "output_type": "execute_result"
    }
   ],
   "source": [
    "# Finding unique values for each column\n",
    "# TO understand which column is categorical and which one is Continuous\n",
    "# Typically if the numer of unique values are < 20 then the variable is likely to be a category otherwise continuous\n",
    "inventory_df.nunique()"
   ]
  },
  {
   "cell_type": "markdown",
   "id": "7b919fa4",
   "metadata": {
    "papermill": {
     "duration": 0.018002,
     "end_time": "2022-03-20T12:53:06.278068",
     "exception": false,
     "start_time": "2022-03-20T12:53:06.260066",
     "status": "completed"
    },
    "tags": []
   },
   "source": [
    "# Basic Data Exploration Results\n",
    "\n",
    "Based on the basic exploration above, we can create a simple report of the data, noting down the observations regaring each column. Hence, creating a initial roadmap for further analysis.\n",
    "\n",
    "The selected columns in this step are not final, further study will be done and then a final list will be created.\n",
    "\n",
    "- Category     : Selected. Categorical.\n",
    "- Sub Category : Selected. Categorical.\n",
    "- Brand Name   : Selected. Categorical.\n",
    "- Product Name: Selected. Categorical.\n",
    "- Name         : Selected. Categorical.\n",
    "- Weight       : Selected. Continuous.\n",
    "- MRP/Unit     : Selected. Continuous.\n",
    "- Qnty         : Selected. Continuous.\n",
    "- Unit Qnty    : Selected. Continuous.\n",
    "- Cost Price   : Selected. Continuous.\n",
    "- Product ID   : Selected. Continuous.\n",
    "- Product rating : Selected. Continuous."
   ]
  },
  {
   "cell_type": "markdown",
   "id": "f8059b49",
   "metadata": {
    "papermill": {
     "duration": 0.017499,
     "end_time": "2022-03-20T12:53:06.313802",
     "exception": false,
     "start_time": "2022-03-20T12:53:06.296303",
     "status": "completed"
    },
    "tags": []
   },
   "source": [
    "# Visual Exploratory Data Analysis\n",
    "\n",
    "Categorical variables: Bar plot\n",
    "\n",
    "Continuous variables: Histogram"
   ]
  },
  {
   "cell_type": "markdown",
   "id": "9133d697",
   "metadata": {
    "papermill": {
     "duration": 0.018308,
     "end_time": "2022-03-20T12:53:06.350245",
     "exception": false,
     "start_time": "2022-03-20T12:53:06.331937",
     "status": "completed"
    },
    "tags": []
   },
   "source": [
    "## Visualize distribution of all the Categorical Predictor variables in the data using bar plots\n",
    "We can spot a categorical variable in the data by looking at the unique values in them. Typically a categorical variable contains less than 20 Unique values AND there is repetition of values, which means the data can be grouped by those unique values."
   ]
  },
  {
   "cell_type": "code",
   "execution_count": 9,
   "id": "85972f4b",
   "metadata": {
    "execution": {
     "iopub.execute_input": "2022-03-20T12:53:06.387755Z",
     "iopub.status.busy": "2022-03-20T12:53:06.386752Z",
     "iopub.status.idle": "2022-03-20T12:53:06.395773Z",
     "shell.execute_reply": "2022-03-20T12:53:06.394889Z"
    },
    "papermill": {
     "duration": 0.029615,
     "end_time": "2022-03-20T12:53:06.397860",
     "exception": false,
     "start_time": "2022-03-20T12:53:06.368245",
     "status": "completed"
    },
    "tags": []
   },
   "outputs": [],
   "source": [
    "# Plotting multiple bar charts at once for categorical variables\n",
    "# Since there is no default function which can plot bar charts for multiple columns at once\n",
    "# we are defining our own function for the same\n",
    "\n",
    "def PlotBarCharts(inpData, colsToPlot):\n",
    "    %matplotlib inline\n",
    "    \n",
    "    import matplotlib.pyplot as plt\n",
    "    \n",
    "    # Generating multiple subplots\n",
    "    fig, subPlot=plt.subplots(nrows=1, ncols=len(colsToPlot), figsize=(50,5))\n",
    "    fig.suptitle('Bar charts of: '+ str(colsToPlot))\n",
    "\n",
    "    for colName, plotNumber in zip(colsToPlot, range(len(colsToPlot))):\n",
    "        inpData.groupby(colName).size().plot(kind='bar',ax=subPlot[plotNumber])"
   ]
  },
  {
   "cell_type": "code",
   "execution_count": 10,
   "id": "7c4dc8a7",
   "metadata": {
    "execution": {
     "iopub.execute_input": "2022-03-20T12:53:06.435316Z",
     "iopub.status.busy": "2022-03-20T12:53:06.434360Z",
     "iopub.status.idle": "2022-03-20T12:53:07.923435Z",
     "shell.execute_reply": "2022-03-20T12:53:07.922554Z"
    },
    "papermill": {
     "duration": 1.508603,
     "end_time": "2022-03-20T12:53:07.925428",
     "exception": false,
     "start_time": "2022-03-20T12:53:06.416825",
     "status": "completed"
    },
    "tags": []
   },
   "outputs": [
    {
     "data": {
      "image/png": "[encoded data removed]",
      "text/plain": [
       "<Figure size 3600x360 with 2 Axes>"
      ]
     },
     "metadata": {
      "needs_background": "light"
     },
     "output_type": "display_data"
    }
   ],
   "source": [
    "#####################################################################\n",
    "# Calling the function for 5 columns\n",
    "PlotBarCharts(inpData=inventory_df, \n",
    "              colsToPlot=['Category', 'Sub Category'])"
   ]
  },
  {
   "cell_type": "code",
   "execution_count": 11,
   "id": "aeae6a70",
   "metadata": {
    "execution": {
     "iopub.execute_input": "2022-03-20T12:53:07.965910Z",
     "iopub.status.busy": "2022-03-20T12:53:07.965910Z",
     "iopub.status.idle": "2022-03-20T12:53:18.380239Z",
     "shell.execute_reply": "2022-03-20T12:53:18.379943Z"
    },
    "papermill": {
     "duration": 10.437018,
     "end_time": "2022-03-20T12:53:18.382331",
     "exception": false,
     "start_time": "2022-03-20T12:53:07.945313",
     "status": "completed"
    },
    "tags": []
   },
   "outputs": [
    {
     "data": {
      "image/png": "[encoded data removed]",
      "text/plain": [
       "<Figure size 3600x360 with 2 Axes>"
      ]
     },
     "metadata": {
      "needs_background": "light"
     },
     "output_type": "display_data"
    }
   ],
   "source": [
    "#####################################################################\n",
    "# Calling the function for 5 columns\n",
    "PlotBarCharts(inpData=inventory_df, \n",
    "              colsToPlot=['Simplified Category', 'Brand Name'])"
   ]
  },
  {
   "cell_type": "markdown",
   "id": "20e1af62",
   "metadata": {
    "papermill": {
     "duration": 0.023109,
     "end_time": "2022-03-20T12:53:18.429443",
     "exception": false,
     "start_time": "2022-03-20T12:53:18.406334",
     "status": "completed"
    },
    "tags": []
   },
   "source": [
    "# Bar Charts Interpretation\n",
    "These bar charts represent the frequencies of each category in the Y-axis and the category names in the X-axis.\n",
    "\n",
    "In this data, all the categorical columns except \"Brand Name\", \"Name\" and \"Product Name\" have satisfactory distribution for machine learning."
   ]
  },
  {
   "cell_type": "markdown",
   "id": "04849368",
   "metadata": {
    "papermill": {
     "duration": 0.0242,
     "end_time": "2022-03-20T12:53:18.478586",
     "exception": false,
     "start_time": "2022-03-20T12:53:18.454386",
     "status": "completed"
    },
    "tags": []
   },
   "source": [
    "# Visualize distribution of all the Continuous Predictor variables in the data using histograms"
   ]
  },
  {
   "cell_type": "code",
   "execution_count": 12,
   "id": "fe485297",
   "metadata": {
    "execution": {
     "iopub.execute_input": "2022-03-20T12:53:18.526090Z",
     "iopub.status.busy": "2022-03-20T12:53:18.526090Z",
     "iopub.status.idle": "2022-03-20T12:53:18.738953Z",
     "shell.execute_reply": "2022-03-20T12:53:18.737804Z"
    },
    "papermill": {
     "duration": 0.239712,
     "end_time": "2022-03-20T12:53:18.739943",
     "exception": false,
     "start_time": "2022-03-20T12:53:18.500231",
     "status": "completed"
    },
    "tags": []
   },
   "outputs": [
    {
     "data": {
      "text/plain": [
       "array([[<AxesSubplot:title={'center':'MRP/Unit'}>,\n",
       "        <AxesSubplot:title={'center':'Rating '}>],\n",
       "       [<AxesSubplot:title={'center':'No of Users Purchased'}>,\n",
       "        <AxesSubplot:>]], dtype=object)"
      ]
     },
     "execution_count": 12,
     "metadata": {},
     "output_type": "execute_result"
    },
    {
     "data": {
      "image/png": "[encoded data removed]",
      "text/plain": [
       "<Figure size 720x360 with 4 Axes>"
      ]
     },
     "metadata": {
      "needs_background": "light"
     },
     "output_type": "display_data"
    }
   ],
   "source": [
    "# Plotting histograms of multiple columns together\n",
    "\n",
    "inventory_df.hist(['MRP/Unit', 'Rating ', 'No of Users Purchased'], figsize=(10, 5))"
   ]
  },
  {
   "cell_type": "code",
   "execution_count": 13,
   "id": "6f3ebb9b",
   "metadata": {
    "execution": {
     "iopub.execute_input": "2022-03-20T12:53:18.792758Z",
     "iopub.status.busy": "2022-03-20T12:53:18.792758Z",
     "iopub.status.idle": "2022-03-20T12:53:18.799616Z",
     "shell.execute_reply": "2022-03-20T12:53:18.798720Z"
    },
    "papermill": {
     "duration": 0.032846,
     "end_time": "2022-03-20T12:53:18.800613",
     "exception": false,
     "start_time": "2022-03-20T12:53:18.767767",
     "status": "completed"
    },
    "tags": []
   },
   "outputs": [
    {
     "data": {
      "text/plain": [
       "Index(['Category', 'Sub Category', 'Simplified Category', 'Brand Name',\n",
       "       'Product Name', 'Weight', 'MRP/Unit', 'Product ID ', 'Image URL',\n",
       "       'Rating ', 'No of Users Purchased'],\n",
       "      dtype='object')"
      ]
     },
     "execution_count": 13,
     "metadata": {},
     "output_type": "execute_result"
    }
   ],
   "source": [
    "inventory_df.columns"
   ]
  },
  {
   "cell_type": "code",
   "execution_count": 14,
   "id": "566993d5",
   "metadata": {
    "execution": {
     "iopub.execute_input": "2022-03-20T12:53:18.851365Z",
     "iopub.status.busy": "2022-03-20T12:53:18.851365Z",
     "iopub.status.idle": "2022-03-20T12:53:18.956942Z",
     "shell.execute_reply": "2022-03-20T12:53:18.955848Z"
    },
    "papermill": {
     "duration": 0.134978,
     "end_time": "2022-03-20T12:53:18.958977",
     "exception": false,
     "start_time": "2022-03-20T12:53:18.823999",
     "status": "completed"
    },
    "tags": []
   },
   "outputs": [
    {
     "data": {
      "text/plain": [
       "array([[<AxesSubplot:title={'center':'Product ID '}>]], dtype=object)"
      ]
     },
     "execution_count": 14,
     "metadata": {},
     "output_type": "execute_result"
    },
    {
     "data": {
      "image/png": "[encoded data removed]",
      "text/plain": [
       "<Figure size 720x360 with 1 Axes>"
      ]
     },
     "metadata": {
      "needs_background": "light"
     },
     "output_type": "display_data"
    }
   ],
   "source": [
    "# Plotting histograms of multiple columns together\n",
    "\n",
    "inventory_df.hist(['Product ID '], figsize=(10,5))"
   ]
  },
  {
   "cell_type": "markdown",
   "id": "397c5a3c",
   "metadata": {
    "papermill": {
     "duration": 0.024345,
     "end_time": "2022-03-20T12:53:19.007360",
     "exception": false,
     "start_time": "2022-03-20T12:53:18.983015",
     "status": "completed"
    },
    "tags": []
   },
   "source": [
    "# Histogram Interpretation\n",
    "Histograms shows us the data distribution for a single continuous variable.\n",
    "\n",
    "The ideal outcome for histogram is a bell curve or slightly skewed bell curve. If there is too much skewness, then outlier treatment should be done and the column should be re-examined, if that also does not solve the problem then only reject the column.\n",
    "\n",
    "Selected Continuous Variables:\n",
    "\n",
    "- MRP/Unit   : Selected. Slightly skewed distribution, acceptable.\n",
    "- Qnty       : Selected. Slightly skewed distribution, acceptable.\n",
    "- Unit Qnty  : Selected. Skewed distribution, not acceptable.\n",
    "- Cost Price : Selected. Slightly skewed distribution, acceptable.\n"
   ]
  },
  {
   "cell_type": "markdown",
   "id": "a74f7766",
   "metadata": {
    "papermill": {
     "duration": 0.023744,
     "end_time": "2022-03-20T12:53:19.055379",
     "exception": false,
     "start_time": "2022-03-20T12:53:19.031635",
     "status": "completed"
    },
    "tags": []
   },
   "source": [
    "# Outlier treatment\n",
    "Outliers are extreme values in the data which are far away from most of the values. You can see them as the tails in the histogram.\n",
    "\n",
    "Outlier must be treated one column at a time. As the treatment will be slightly different for each column.\n",
    "\n",
    "Why I should treat the outliers?\n",
    "\n",
    "Outliers bias the training of machine learning models. As the algorithm tries to fit the extreme value, it goes away from majority of the data.\n",
    "\n",
    "There are below two options to treat outliers in the data.\n",
    "\n",
    "- Option-1: Delete the outlier Records. Only if there are just few rows lost.\n",
    "- Option-2: Impute the outlier values with a logical business value\n",
    "\n",
    "In this data all the continuous variables have slightly skewed distribution, which is acceptable, hence no outlier treatment is required.\n",
    "\n",
    "\n"
   ]
  },
  {
   "cell_type": "markdown",
   "id": "20333f3b",
   "metadata": {
    "papermill": {
     "duration": 0.024406,
     "end_time": "2022-03-20T12:53:19.104865",
     "exception": false,
     "start_time": "2022-03-20T12:53:19.080459",
     "status": "completed"
    },
    "tags": []
   },
   "source": [
    "1. Rating <0 and >5 \n",
    "2. simplfied category not in 'Groceries' ,'Fruits' ,'Dry Fruits'\n",
    "3. Length of productid >12\n",
    "4. MRP/Unit <0 and MRP/Unit>10000"
   ]
  },
  {
   "cell_type": "code",
   "execution_count": 15,
   "id": "af1b6bc7",
   "metadata": {
    "execution": {
     "iopub.execute_input": "2022-03-20T12:53:19.159478Z",
     "iopub.status.busy": "2022-03-20T12:53:19.158393Z",
     "iopub.status.idle": "2022-03-20T12:53:19.173395Z",
     "shell.execute_reply": "2022-03-20T12:53:19.172526Z"
    },
    "papermill": {
     "duration": 0.04294,
     "end_time": "2022-03-20T12:53:19.174431",
     "exception": false,
     "start_time": "2022-03-20T12:53:19.131491",
     "status": "completed"
    },
    "tags": []
   },
   "outputs": [],
   "source": [
    "def outlier_treatment(datacolumn):\n",
    "    sorted(datacolumn)\n",
    "    Q1,Q3 = np.percentile(datacolumn , [25,75])\n",
    "    IQR = Q3 - Q1\n",
    "    lower_range = Q1 - (1.5 * IQR)\n",
    "    upper_range = Q3 + (1.5 * IQR)\n",
    "    return lower_range,upper_range"
   ]
  },
  {
   "cell_type": "code",
   "execution_count": 16,
   "id": "fc054fd4",
   "metadata": {
    "execution": {
     "iopub.execute_input": "2022-03-20T12:53:19.225727Z",
     "iopub.status.busy": "2022-03-20T12:53:19.225727Z",
     "iopub.status.idle": "2022-03-20T12:53:19.236093Z",
     "shell.execute_reply": "2022-03-20T12:53:19.234842Z"
    },
    "papermill": {
     "duration": 0.037555,
     "end_time": "2022-03-20T12:53:19.237061",
     "exception": false,
     "start_time": "2022-03-20T12:53:19.199506",
     "status": "completed"
    },
    "tags": []
   },
   "outputs": [],
   "source": [
    "lowerbound,upperbound = outlier_treatment(inventory_df['Rating '])"
   ]
  },
  {
   "cell_type": "code",
   "execution_count": 17,
   "id": "5dc5c13d",
   "metadata": {
    "execution": {
     "iopub.execute_input": "2022-03-20T12:53:19.290324Z",
     "iopub.status.busy": "2022-03-20T12:53:19.290324Z",
     "iopub.status.idle": "2022-03-20T12:53:19.313093Z",
     "shell.execute_reply": "2022-03-20T12:53:19.312099Z"
    },
    "papermill": {
     "duration": 0.052682,
     "end_time": "2022-03-20T12:53:19.314104",
     "exception": false,
     "start_time": "2022-03-20T12:53:19.261422",
     "status": "completed"
    },
    "tags": []
   },
   "outputs": [
    {
     "data": {
      "text/html": [
       "<div>\n",
       "<style scoped>\n",
       "    .dataframe tbody tr th:only-of-type {\n",
       "        vertical-align: middle;\n",
       "    }\n",
       "\n",
       "    .dataframe tbody tr th {\n",
       "        vertical-align: top;\n",
       "    }\n",
       "\n",
       "    .dataframe thead th {\n",
       "        text-align: right;\n",
       "    }\n",
       "</style>\n",
       "<table border=\"1\" class=\"dataframe\">\n",
       "  <thead>\n",
       "    <tr style=\"text-align: right;\">\n",
       "      <th></th>\n",
       "      <th>Category</th>\n",
       "      <th>Sub Category</th>\n",
       "      <th>Simplified Category</th>\n",
       "      <th>Brand Name</th>\n",
       "      <th>Product Name</th>\n",
       "      <th>Weight</th>\n",
       "      <th>MRP/Unit</th>\n",
       "      <th>Product ID</th>\n",
       "      <th>Image URL</th>\n",
       "      <th>Rating</th>\n",
       "      <th>No of Users Purchased</th>\n",
       "    </tr>\n",
       "  </thead>\n",
       "  <tbody>\n",
       "  </tbody>\n",
       "</table>\n",
       "</div>"
      ],
      "text/plain": [
       "Empty DataFrame\n",
       "Columns: [Category, Sub Category, Simplified Category, Brand Name, Product Name, Weight, MRP/Unit, Product ID , Image URL, Rating , No of Users Purchased]\n",
       "Index: []"
      ]
     },
     "execution_count": 17,
     "metadata": {},
     "output_type": "execute_result"
    }
   ],
   "source": [
    "# Records not within the boundary\n",
    "inventory_df[(inventory_df['Rating '] < lowerbound) | (inventory_df['Rating '] > upperbound)]"
   ]
  },
  {
   "cell_type": "code",
   "execution_count": 18,
   "id": "72bf71ad",
   "metadata": {
    "execution": {
     "iopub.execute_input": "2022-03-20T12:53:19.365820Z",
     "iopub.status.busy": "2022-03-20T12:53:19.365820Z",
     "iopub.status.idle": "2022-03-20T12:53:19.580244Z",
     "shell.execute_reply": "2022-03-20T12:53:19.580057Z"
    },
    "papermill": {
     "duration": 0.24349,
     "end_time": "2022-03-20T12:53:19.582425",
     "exception": false,
     "start_time": "2022-03-20T12:53:19.338935",
     "status": "completed"
    },
    "tags": []
   },
   "outputs": [],
   "source": [
    "error_records_df = inventory_df[(inventory_df['Rating '] < lowerbound) | (inventory_df['Rating '] > upperbound)]\n",
    "error_records_df.drop(['Sub Category', 'Brand Name', 'No of Users Purchased'], axis=1, inplace=True)\n",
    "error_records_df.rename(columns = {'Category':'Sub_Category_Name', 'Simplified Category':'Category_Name','Product Name':'Product_Name', 'MRP/Unit':'Price','Product ID ':'productid', 'Image URL':'Image', 'Rating ':'Product_Rating'}, inplace= True)\n",
    "error_records_df.to_csv(unprocessed_data, index=False)"
   ]
  },
  {
   "cell_type": "code",
   "execution_count": 19,
   "id": "246e92ea",
   "metadata": {
    "execution": {
     "iopub.execute_input": "2022-03-20T12:53:19.635761Z",
     "iopub.status.busy": "2022-03-20T12:53:19.635761Z",
     "iopub.status.idle": "2022-03-20T12:53:19.658162Z",
     "shell.execute_reply": "2022-03-20T12:53:19.657234Z"
    },
    "papermill": {
     "duration": 0.050819,
     "end_time": "2022-03-20T12:53:19.659243",
     "exception": false,
     "start_time": "2022-03-20T12:53:19.608424",
     "status": "completed"
    },
    "tags": []
   },
   "outputs": [
    {
     "data": {
      "text/html": [
       "<div>\n",
       "<style scoped>\n",
       "    .dataframe tbody tr th:only-of-type {\n",
       "        vertical-align: middle;\n",
       "    }\n",
       "\n",
       "    .dataframe tbody tr th {\n",
       "        vertical-align: top;\n",
       "    }\n",
       "\n",
       "    .dataframe thead th {\n",
       "        text-align: right;\n",
       "    }\n",
       "</style>\n",
       "<table border=\"1\" class=\"dataframe\">\n",
       "  <thead>\n",
       "    <tr style=\"text-align: right;\">\n",
       "      <th></th>\n",
       "      <th>Category</th>\n",
       "      <th>Sub Category</th>\n",
       "      <th>Simplified Category</th>\n",
       "      <th>Brand Name</th>\n",
       "      <th>Product Name</th>\n",
       "      <th>Weight</th>\n",
       "      <th>MRP/Unit</th>\n",
       "      <th>Product ID</th>\n",
       "      <th>Image URL</th>\n",
       "      <th>Rating</th>\n",
       "      <th>No of Users Purchased</th>\n",
       "    </tr>\n",
       "  </thead>\n",
       "  <tbody>\n",
       "    <tr>\n",
       "      <th>17607</th>\n",
       "      <td>Gourmet World Food</td>\n",
       "      <td>Dairy Cheese</td>\n",
       "      <td>Household</td>\n",
       "      <td>ORGANIC ORIGINS</td>\n",
       "      <td>Butter - Almond Cacao Crunchy</td>\n",
       "      <td>200 g</td>\n",
       "      <td>590.0</td>\n",
       "      <td>202229607.0</td>\n",
       "      <td>https://www.bigbasket.com/media/uploads/p/s/40...</td>\n",
       "      <td>4.6</td>\n",
       "      <td>95</td>\n",
       "    </tr>\n",
       "  </tbody>\n",
       "</table>\n",
       "</div>"
      ],
      "text/plain": [
       "                 Category  Sub Category Simplified Category       Brand Name  \\\n",
       "17607  Gourmet World Food  Dairy Cheese           Household  ORGANIC ORIGINS   \n",
       "\n",
       "                        Product Name  Weight  MRP/Unit  Product ID   \\\n",
       "17607  Butter - Almond Cacao Crunchy  200 g      590.0  202229607.0   \n",
       "\n",
       "                                               Image URL  Rating   \\\n",
       "17607  https://www.bigbasket.com/media/uploads/p/s/40...      4.6   \n",
       "\n",
       "       No of Users Purchased  \n",
       "17607                     95  "
      ]
     },
     "execution_count": 19,
     "metadata": {},
     "output_type": "execute_result"
    }
   ],
   "source": [
    "# simplfied category not in 'Groceries' ,'Fruits' ,'Dry Fruits'\n",
    "inventory_df[(inventory_df['Simplified Category'] != 'Groceries') & (inventory_df['Simplified Category'] != 'Fruits') & (inventory_df['Simplified Category'] != 'Dry Fruits')]"
   ]
  },
  {
   "cell_type": "code",
   "execution_count": 20,
   "id": "8f1a0c60",
   "metadata": {
    "execution": {
     "iopub.execute_input": "2022-03-20T12:53:19.710746Z",
     "iopub.status.busy": "2022-03-20T12:53:19.709782Z",
     "iopub.status.idle": "2022-03-20T12:53:19.735919Z",
     "shell.execute_reply": "2022-03-20T12:53:19.735508Z"
    },
    "papermill": {
     "duration": 0.054277,
     "end_time": "2022-03-20T12:53:19.737939",
     "exception": false,
     "start_time": "2022-03-20T12:53:19.683662",
     "status": "completed"
    },
    "tags": []
   },
   "outputs": [],
   "source": [
    "error_records_df =inventory_df[(inventory_df['Simplified Category'] != 'Groceries') & (inventory_df['Simplified Category'] != 'Fruits') & (inventory_df['Simplified Category'] != 'Dry Fruits')]\n",
    "error_records_df.rename(columns = {'Category':'Sub_Category_Name', 'Simplified Category':'Category_Name','Product Name':'Product_Name', 'MRP/Unit':'Price','Product ID ':'productid', 'Image URL':'Image', 'Rating ':'Product_Rating'}, inplace= True)\n",
    "error_records_df.to_csv(unprocessed_data, mode='a', index=False, header=False)"
   ]
  },
  {
   "cell_type": "code",
   "execution_count": 21,
   "id": "f8d0f9ce",
   "metadata": {
    "execution": {
     "iopub.execute_input": "2022-03-20T12:53:19.793151Z",
     "iopub.status.busy": "2022-03-20T12:53:19.793151Z",
     "iopub.status.idle": "2022-03-20T12:53:19.814667Z",
     "shell.execute_reply": "2022-03-20T12:53:19.813926Z"
    },
    "papermill": {
     "duration": 0.051581,
     "end_time": "2022-03-20T12:53:19.815530",
     "exception": false,
     "start_time": "2022-03-20T12:53:19.763949",
     "status": "completed"
    },
    "tags": []
   },
   "outputs": [
    {
     "data": {
      "text/html": [
       "<div>\n",
       "<style scoped>\n",
       "    .dataframe tbody tr th:only-of-type {\n",
       "        vertical-align: middle;\n",
       "    }\n",
       "\n",
       "    .dataframe tbody tr th {\n",
       "        vertical-align: top;\n",
       "    }\n",
       "\n",
       "    .dataframe thead th {\n",
       "        text-align: right;\n",
       "    }\n",
       "</style>\n",
       "<table border=\"1\" class=\"dataframe\">\n",
       "  <thead>\n",
       "    <tr style=\"text-align: right;\">\n",
       "      <th></th>\n",
       "      <th>Category</th>\n",
       "      <th>Sub Category</th>\n",
       "      <th>Simplified Category</th>\n",
       "      <th>Brand Name</th>\n",
       "      <th>Product Name</th>\n",
       "      <th>Weight</th>\n",
       "      <th>MRP/Unit</th>\n",
       "      <th>Product ID</th>\n",
       "      <th>Image URL</th>\n",
       "      <th>Rating</th>\n",
       "      <th>No of Users Purchased</th>\n",
       "    </tr>\n",
       "  </thead>\n",
       "  <tbody>\n",
       "    <tr>\n",
       "      <th>17608</th>\n",
       "      <td>Gourmet World Food</td>\n",
       "      <td>Dairy Cheese</td>\n",
       "      <td>Groceries</td>\n",
       "      <td>ORGANIC ORIGINS</td>\n",
       "      <td>Butter - Almond Cacao Crunchy</td>\n",
       "      <td>200 g</td>\n",
       "      <td>590.0</td>\n",
       "      <td>2.020000e+11</td>\n",
       "      <td>https://www.bigbasket.com/media/uploads/p/s/40...</td>\n",
       "      <td>4.6</td>\n",
       "      <td>95</td>\n",
       "    </tr>\n",
       "  </tbody>\n",
       "</table>\n",
       "</div>"
      ],
      "text/plain": [
       "                 Category  Sub Category Simplified Category       Brand Name  \\\n",
       "17608  Gourmet World Food  Dairy Cheese           Groceries  ORGANIC ORIGINS   \n",
       "\n",
       "                        Product Name  Weight  MRP/Unit   Product ID   \\\n",
       "17608  Butter - Almond Cacao Crunchy  200 g      590.0  2.020000e+11   \n",
       "\n",
       "                                               Image URL  Rating   \\\n",
       "17608  https://www.bigbasket.com/media/uploads/p/s/40...      4.6   \n",
       "\n",
       "       No of Users Purchased  \n",
       "17608                     95  "
      ]
     },
     "execution_count": 21,
     "metadata": {},
     "output_type": "execute_result"
    }
   ],
   "source": [
    "# Length of productid > 12\n",
    "inventory_df[inventory_df['Product ID '].astype(str).str.len() > 12]"
   ]
  },
  {
   "cell_type": "code",
   "execution_count": 22,
   "id": "4c5edfa9",
   "metadata": {
    "execution": {
     "iopub.execute_input": "2022-03-20T12:53:19.869300Z",
     "iopub.status.busy": "2022-03-20T12:53:19.869300Z",
     "iopub.status.idle": "2022-03-20T12:53:19.891639Z",
     "shell.execute_reply": "2022-03-20T12:53:19.891639Z"
    },
    "papermill": {
     "duration": 0.051988,
     "end_time": "2022-03-20T12:53:19.893612",
     "exception": false,
     "start_time": "2022-03-20T12:53:19.841624",
     "status": "completed"
    },
    "tags": []
   },
   "outputs": [],
   "source": [
    "error_records_df = inventory_df[inventory_df['Product ID '].astype(str).str.len() > 12]\n",
    "error_records_df.rename(columns = {'Category':'Sub_Category_Name', 'Simplified Category':'Category_Name','Product Name':'Product_Name', 'MRP/Unit':'Price','Product ID ':'productid', 'Image URL':'Image', 'Rating ':'Product_Rating'}, inplace= True)\n",
    "error_records_df.to_csv(unprocessed_data, mode='a', index=False, header=False)"
   ]
  },
  {
   "cell_type": "code",
   "execution_count": 23,
   "id": "d0c6d92b",
   "metadata": {
    "execution": {
     "iopub.execute_input": "2022-03-20T12:53:19.948424Z",
     "iopub.status.busy": "2022-03-20T12:53:19.948424Z",
     "iopub.status.idle": "2022-03-20T12:53:19.970903Z",
     "shell.execute_reply": "2022-03-20T12:53:19.969839Z"
    },
    "papermill": {
     "duration": 0.051457,
     "end_time": "2022-03-20T12:53:19.971908",
     "exception": false,
     "start_time": "2022-03-20T12:53:19.920451",
     "status": "completed"
    },
    "tags": []
   },
   "outputs": [
    {
     "data": {
      "text/html": [
       "<div>\n",
       "<style scoped>\n",
       "    .dataframe tbody tr th:only-of-type {\n",
       "        vertical-align: middle;\n",
       "    }\n",
       "\n",
       "    .dataframe tbody tr th {\n",
       "        vertical-align: top;\n",
       "    }\n",
       "\n",
       "    .dataframe thead th {\n",
       "        text-align: right;\n",
       "    }\n",
       "</style>\n",
       "<table border=\"1\" class=\"dataframe\">\n",
       "  <thead>\n",
       "    <tr style=\"text-align: right;\">\n",
       "      <th></th>\n",
       "      <th>Category</th>\n",
       "      <th>Sub Category</th>\n",
       "      <th>Simplified Category</th>\n",
       "      <th>Brand Name</th>\n",
       "      <th>Product Name</th>\n",
       "      <th>Weight</th>\n",
       "      <th>MRP/Unit</th>\n",
       "      <th>Product ID</th>\n",
       "      <th>Image URL</th>\n",
       "      <th>Rating</th>\n",
       "      <th>No of Users Purchased</th>\n",
       "    </tr>\n",
       "  </thead>\n",
       "  <tbody>\n",
       "    <tr>\n",
       "      <th>8646</th>\n",
       "      <td>Kitchen Garden Pets</td>\n",
       "      <td>Pet Food Accessories</td>\n",
       "      <td>Groceries</td>\n",
       "      <td>Wahl</td>\n",
       "      <td>Bravura Clipper</td>\n",
       "      <td>1 pc</td>\n",
       "      <td>12500.0</td>\n",
       "      <td>202220647.0</td>\n",
       "      <td>https://www.bigbasket.com/media/uploads/p/s/40...</td>\n",
       "      <td>4.1</td>\n",
       "      <td>78</td>\n",
       "    </tr>\n",
       "    <tr>\n",
       "      <th>12602</th>\n",
       "      <td>Kitchen Garden Pets</td>\n",
       "      <td>Storage Accessories</td>\n",
       "      <td>Groceries</td>\n",
       "      <td>DP</td>\n",
       "      <td>Premium Cloth Dryer/Drying Stand - Foldable, G...</td>\n",
       "      <td>1 pc</td>\n",
       "      <td>11729.0</td>\n",
       "      <td>202224603.0</td>\n",
       "      <td>https://www.bigbasket.com/media/uploads/p/s/40...</td>\n",
       "      <td>4.2</td>\n",
       "      <td>73</td>\n",
       "    </tr>\n",
       "  </tbody>\n",
       "</table>\n",
       "</div>"
      ],
      "text/plain": [
       "                  Category          Sub Category Simplified Category  \\\n",
       "8646   Kitchen Garden Pets  Pet Food Accessories           Groceries   \n",
       "12602  Kitchen Garden Pets   Storage Accessories           Groceries   \n",
       "\n",
       "      Brand Name                                       Product Name Weight  \\\n",
       "8646        Wahl                                    Bravura Clipper  1 pc    \n",
       "12602         DP  Premium Cloth Dryer/Drying Stand - Foldable, G...  1 pc    \n",
       "\n",
       "       MRP/Unit  Product ID   \\\n",
       "8646    12500.0  202220647.0   \n",
       "12602   11729.0  202224603.0   \n",
       "\n",
       "                                               Image URL  Rating   \\\n",
       "8646   https://www.bigbasket.com/media/uploads/p/s/40...      4.1   \n",
       "12602  https://www.bigbasket.com/media/uploads/p/s/40...      4.2   \n",
       "\n",
       "       No of Users Purchased  \n",
       "8646                      78  \n",
       "12602                     73  "
      ]
     },
     "execution_count": 23,
     "metadata": {},
     "output_type": "execute_result"
    }
   ],
   "source": [
    "# MRP/Unit <0 and MRP/Unit>10000\n",
    "inventory_df[(inventory_df['MRP/Unit'] < 0) | (inventory_df['MRP/Unit'] > 10000)]"
   ]
  },
  {
   "cell_type": "code",
   "execution_count": 24,
   "id": "2f07e86e",
   "metadata": {
    "execution": {
     "iopub.execute_input": "2022-03-20T12:53:20.024238Z",
     "iopub.status.busy": "2022-03-20T12:53:20.024238Z",
     "iopub.status.idle": "2022-03-20T12:53:20.049216Z",
     "shell.execute_reply": "2022-03-20T12:53:20.048369Z"
    },
    "papermill": {
     "duration": 0.052336,
     "end_time": "2022-03-20T12:53:20.050237",
     "exception": false,
     "start_time": "2022-03-20T12:53:19.997901",
     "status": "completed"
    },
    "tags": []
   },
   "outputs": [],
   "source": [
    "error_records_df = inventory_df[(inventory_df['MRP/Unit'] < 0) | (inventory_df['MRP/Unit'] > 10000)]\n",
    "error_records_df.rename(columns = {'Category':'Sub_Category_Name', 'Simplified Category':'Category_Name','Product Name':'Product_Name', 'MRP/Unit':'Price','Product ID ':'productid', 'Image URL':'Image', 'Rating ':'Product_Rating'}, inplace= True)\n",
    "error_records_df.to_csv(unprocessed_data, mode='a', index=False, header=False)"
   ]
  },
  {
   "cell_type": "code",
   "execution_count": 25,
   "id": "a6cd39e7",
   "metadata": {
    "execution": {
     "iopub.execute_input": "2022-03-20T12:53:20.104482Z",
     "iopub.status.busy": "2022-03-20T12:53:20.103441Z",
     "iopub.status.idle": "2022-03-20T12:53:20.143089Z",
     "shell.execute_reply": "2022-03-20T12:53:20.142180Z"
    },
    "papermill": {
     "duration": 0.067796,
     "end_time": "2022-03-20T12:53:20.144094",
     "exception": false,
     "start_time": "2022-03-20T12:53:20.076298",
     "status": "completed"
    },
    "tags": []
   },
   "outputs": [],
   "source": [
    "# remove the outliers from the dataset\n",
    "\n",
    "inventory_df.drop(inventory_df[ (inventory_df['Rating '] > upperbound) | (inventory_df['Rating '] < lowerbound) ].index , inplace=True)\n",
    "\n",
    "inventory_df.drop(inventory_df[(inventory_df['Simplified Category'] != 'Groceries') & (inventory_df['Simplified Category'] != 'Fruits') & (inventory_df['Simplified Category'] != 'Dry Fruits')].index, inplace=True)\n",
    "\n",
    "inventory_df.drop(inventory_df[inventory_df['Product ID '].astype(str).str.len() > 12].index, inplace=True)\n",
    "\n",
    "inventory_df.drop(inventory_df[(inventory_df['MRP/Unit'] < 0) | (inventory_df['MRP/Unit'] > 10000)].index, inplace=True)\n"
   ]
  },
  {
   "cell_type": "markdown",
   "id": "0a75d447",
   "metadata": {
    "papermill": {
     "duration": 0.02479,
     "end_time": "2022-03-20T12:53:20.195871",
     "exception": false,
     "start_time": "2022-03-20T12:53:20.171081",
     "status": "completed"
    },
    "tags": []
   },
   "source": [
    "# Missing values treatment\n",
    "Missing values are treated for each column separately.\n",
    "\n",
    "If a column has more than 30% data missing, then missing value treatment cannot be done. That column must be rejected because too much information is missing.\n",
    "\n",
    "There are below options for treating missing values in data.\n",
    "\n",
    "- Delete the missing value rows if there are only few records\n",
    "- Impute the missing values with MEDIAN value for continuous variables\n",
    "- Impute the missing values with MODE value for categorical variables\n",
    "- Interpolate the values based on nearby values\n",
    "- Interpolate the values based on business logic"
   ]
  },
  {
   "cell_type": "code",
   "execution_count": 26,
   "id": "291ecafd",
   "metadata": {
    "execution": {
     "iopub.execute_input": "2022-03-20T12:53:20.267298Z",
     "iopub.status.busy": "2022-03-20T12:53:20.267298Z",
     "iopub.status.idle": "2022-03-20T12:53:20.300563Z",
     "shell.execute_reply": "2022-03-20T12:53:20.299674Z"
    },
    "papermill": {
     "duration": 0.060229,
     "end_time": "2022-03-20T12:53:20.301557",
     "exception": false,
     "start_time": "2022-03-20T12:53:20.241328",
     "status": "completed"
    },
    "tags": []
   },
   "outputs": [
    {
     "data": {
      "text/plain": [
       "Category                 0\n",
       "Sub Category             0\n",
       "Simplified Category      0\n",
       "Brand Name               1\n",
       "Product Name             0\n",
       "Weight                   0\n",
       "MRP/Unit                 0\n",
       "Product ID               0\n",
       "Image URL                0\n",
       "Rating                   0\n",
       "No of Users Purchased    0\n",
       "dtype: int64"
      ]
     },
     "execution_count": 26,
     "metadata": {},
     "output_type": "execute_result"
    }
   ],
   "source": [
    "# Finding how many missing values are there for each column\n",
    "inventory_df.isnull().sum()"
   ]
  },
  {
   "cell_type": "code",
   "execution_count": 27,
   "id": "2dfbf1bf",
   "metadata": {
    "execution": {
     "iopub.execute_input": "2022-03-20T12:53:20.356147Z",
     "iopub.status.busy": "2022-03-20T12:53:20.356147Z",
     "iopub.status.idle": "2022-03-20T12:53:20.393489Z",
     "shell.execute_reply": "2022-03-20T12:53:20.393489Z"
    },
    "papermill": {
     "duration": 0.06796,
     "end_time": "2022-03-20T12:53:20.395594",
     "exception": false,
     "start_time": "2022-03-20T12:53:20.327634",
     "status": "completed"
    },
    "tags": []
   },
   "outputs": [
    {
     "data": {
      "text/html": [
       "<div>\n",
       "<style scoped>\n",
       "    .dataframe tbody tr th:only-of-type {\n",
       "        vertical-align: middle;\n",
       "    }\n",
       "\n",
       "    .dataframe tbody tr th {\n",
       "        vertical-align: top;\n",
       "    }\n",
       "\n",
       "    .dataframe thead th {\n",
       "        text-align: right;\n",
       "    }\n",
       "</style>\n",
       "<table border=\"1\" class=\"dataframe\">\n",
       "  <thead>\n",
       "    <tr style=\"text-align: right;\">\n",
       "      <th></th>\n",
       "      <th>Sub_Category_Name</th>\n",
       "      <th>Sub Category</th>\n",
       "      <th>Category_Name</th>\n",
       "      <th>Brand Name</th>\n",
       "      <th>Product_Name</th>\n",
       "      <th>Weight</th>\n",
       "      <th>Price</th>\n",
       "      <th>productid</th>\n",
       "      <th>Image</th>\n",
       "      <th>Product_Rating</th>\n",
       "      <th>No of Users Purchased</th>\n",
       "    </tr>\n",
       "  </thead>\n",
       "  <tbody>\n",
       "    <tr>\n",
       "      <th>17605</th>\n",
       "      <td>Gourmet World Food</td>\n",
       "      <td>Dairy Cheese</td>\n",
       "      <td>Groceries</td>\n",
       "      <td>NaN</td>\n",
       "      <td>Butter - Almond, Smooth</td>\n",
       "      <td>200 g</td>\n",
       "      <td>490.0</td>\n",
       "      <td>202229606.0</td>\n",
       "      <td>https://www.bigbasket.com/media/uploads/p/s/40...</td>\n",
       "      <td>4.7</td>\n",
       "      <td>57</td>\n",
       "    </tr>\n",
       "  </tbody>\n",
       "</table>\n",
       "</div>"
      ],
      "text/plain": [
       "        Sub_Category_Name  Sub Category Category_Name Brand Name  \\\n",
       "17605  Gourmet World Food  Dairy Cheese     Groceries        NaN   \n",
       "\n",
       "                  Product_Name  Weight  Price    productid  \\\n",
       "17605  Butter - Almond, Smooth  200 g   490.0  202229606.0   \n",
       "\n",
       "                                                   Image  Product_Rating  \\\n",
       "17605  https://www.bigbasket.com/media/uploads/p/s/40...             4.7   \n",
       "\n",
       "       No of Users Purchased  \n",
       "17605                     57  "
      ]
     },
     "execution_count": 27,
     "metadata": {},
     "output_type": "execute_result"
    }
   ],
   "source": [
    "error_records_df = inventory_df[inventory_df.isnull().any(axis=1)]\n",
    "error_records_df.rename(columns = {'Category':'Sub_Category_Name', 'Simplified Category':'Category_Name','Product Name':'Product_Name', 'MRP/Unit':'Price','Product ID ':'productid', 'Image URL':'Image', 'Rating ':'Product_Rating'}, inplace= True)\n",
    "error_records_df.to_csv(unprocessed_data, mode='a', index=False, header=False)\n",
    "error_records_df"
   ]
  },
  {
   "cell_type": "code",
   "execution_count": 28,
   "id": "cff89245",
   "metadata": {
    "execution": {
     "iopub.execute_input": "2022-03-20T12:53:20.452763Z",
     "iopub.status.busy": "2022-03-20T12:53:20.452763Z",
     "iopub.status.idle": "2022-03-20T12:53:20.472176Z",
     "shell.execute_reply": "2022-03-20T12:53:20.471183Z"
    },
    "papermill": {
     "duration": 0.049362,
     "end_time": "2022-03-20T12:53:20.474126",
     "exception": false,
     "start_time": "2022-03-20T12:53:20.424764",
     "status": "completed"
    },
    "tags": []
   },
   "outputs": [],
   "source": [
    "inventory_df.replace('', np.nan, inplace=True)"
   ]
  },
  {
   "cell_type": "code",
   "execution_count": 29,
   "id": "275f3122",
   "metadata": {
    "execution": {
     "iopub.execute_input": "2022-03-20T12:53:20.531523Z",
     "iopub.status.busy": "2022-03-20T12:53:20.531523Z",
     "iopub.status.idle": "2022-03-20T12:53:20.566793Z",
     "shell.execute_reply": "2022-03-20T12:53:20.566793Z"
    },
    "papermill": {
     "duration": 0.067312,
     "end_time": "2022-03-20T12:53:20.569032",
     "exception": false,
     "start_time": "2022-03-20T12:53:20.501720",
     "status": "completed"
    },
    "tags": []
   },
   "outputs": [
    {
     "data": {
      "text/plain": [
       "Category                 0\n",
       "Sub Category             0\n",
       "Simplified Category      0\n",
       "Brand Name               0\n",
       "Product Name             0\n",
       "Weight                   0\n",
       "MRP/Unit                 0\n",
       "Product ID               0\n",
       "Image URL                0\n",
       "Rating                   0\n",
       "No of Users Purchased    0\n",
       "dtype: int64"
      ]
     },
     "execution_count": 29,
     "metadata": {},
     "output_type": "execute_result"
    }
   ],
   "source": [
    "inventory_df.dropna(inplace=True)\n",
    "\n",
    "# Finding how many missing values are there for each column\n",
    "inventory_df.isnull().sum()"
   ]
  },
  {
   "cell_type": "markdown",
   "id": "ae17ea3b",
   "metadata": {
    "papermill": {
     "duration": 0.027413,
     "end_time": "2022-03-20T12:53:20.622728",
     "exception": false,
     "start_time": "2022-03-20T12:53:20.595315",
     "status": "completed"
    },
    "tags": []
   },
   "source": [
    "All the missing values are removed now."
   ]
  },
  {
   "cell_type": "markdown",
   "id": "447c2dea",
   "metadata": {
    "papermill": {
     "duration": 0.027674,
     "end_time": "2022-03-20T12:53:20.678150",
     "exception": false,
     "start_time": "2022-03-20T12:53:20.650476",
     "status": "completed"
    },
    "tags": []
   },
   "source": [
    "# Data Cleansing"
   ]
  },
  {
   "cell_type": "code",
   "execution_count": 30,
   "id": "27be3585",
   "metadata": {
    "execution": {
     "iopub.execute_input": "2022-03-20T12:53:20.735970Z",
     "iopub.status.busy": "2022-03-20T12:53:20.735050Z",
     "iopub.status.idle": "2022-03-20T12:53:20.739119Z",
     "shell.execute_reply": "2022-03-20T12:53:20.739119Z"
    },
    "papermill": {
     "duration": 0.033547,
     "end_time": "2022-03-20T12:53:20.740190",
     "exception": false,
     "start_time": "2022-03-20T12:53:20.706643",
     "status": "completed"
    },
    "tags": []
   },
   "outputs": [],
   "source": [
    "# Removing the leading and trailing spaces of columns\n",
    "inventory_df.columns = inventory_df.columns.str.strip()"
   ]
  },
  {
   "cell_type": "code",
   "execution_count": 31,
   "id": "6d627f1d",
   "metadata": {
    "execution": {
     "iopub.execute_input": "2022-03-20T12:53:20.800011Z",
     "iopub.status.busy": "2022-03-20T12:53:20.800011Z",
     "iopub.status.idle": "2022-03-20T12:53:20.818618Z",
     "shell.execute_reply": "2022-03-20T12:53:20.817727Z"
    },
    "papermill": {
     "duration": 0.052345,
     "end_time": "2022-03-20T12:53:20.820618",
     "exception": false,
     "start_time": "2022-03-20T12:53:20.768273",
     "status": "completed"
    },
    "tags": []
   },
   "outputs": [
    {
     "data": {
      "text/plain": [
       "Index(['Category', 'Sub Category', 'Simplified Category', 'Brand Name',\n",
       "       'Product Name', 'Weight', 'MRP/Unit', 'Product ID', 'Image URL',\n",
       "       'Rating', 'No of Users Purchased'],\n",
       "      dtype='object')"
      ]
     },
     "execution_count": 31,
     "metadata": {},
     "output_type": "execute_result"
    }
   ],
   "source": [
    "inventory_df.columns"
   ]
  },
  {
   "cell_type": "markdown",
   "id": "72d352c2",
   "metadata": {
    "papermill": {
     "duration": 0.029335,
     "end_time": "2022-03-20T12:53:20.877197",
     "exception": false,
     "start_time": "2022-03-20T12:53:20.847862",
     "status": "completed"
    },
    "tags": []
   },
   "source": [
    "# Find Correalation between attributes"
   ]
  },
  {
   "cell_type": "code",
   "execution_count": 32,
   "id": "d554982b",
   "metadata": {
    "execution": {
     "iopub.execute_input": "2022-03-20T12:53:20.937069Z",
     "iopub.status.busy": "2022-03-20T12:53:20.937069Z",
     "iopub.status.idle": "2022-03-20T12:53:20.957556Z",
     "shell.execute_reply": "2022-03-20T12:53:20.957271Z"
    },
    "papermill": {
     "duration": 0.053115,
     "end_time": "2022-03-20T12:53:20.959624",
     "exception": false,
     "start_time": "2022-03-20T12:53:20.906509",
     "status": "completed"
    },
    "tags": []
   },
   "outputs": [
    {
     "data": {
      "text/html": [
       "<div>\n",
       "<style scoped>\n",
       "    .dataframe tbody tr th:only-of-type {\n",
       "        vertical-align: middle;\n",
       "    }\n",
       "\n",
       "    .dataframe tbody tr th {\n",
       "        vertical-align: top;\n",
       "    }\n",
       "\n",
       "    .dataframe thead th {\n",
       "        text-align: right;\n",
       "    }\n",
       "</style>\n",
       "<table border=\"1\" class=\"dataframe\">\n",
       "  <thead>\n",
       "    <tr style=\"text-align: right;\">\n",
       "      <th></th>\n",
       "      <th>MRP/Unit</th>\n",
       "      <th>Product ID</th>\n",
       "      <th>Rating</th>\n",
       "      <th>No of Users Purchased</th>\n",
       "    </tr>\n",
       "  </thead>\n",
       "  <tbody>\n",
       "    <tr>\n",
       "      <th>MRP/Unit</th>\n",
       "      <td>1.000000</td>\n",
       "      <td>-0.002626</td>\n",
       "      <td>0.003913</td>\n",
       "      <td>-0.002747</td>\n",
       "    </tr>\n",
       "    <tr>\n",
       "      <th>Product ID</th>\n",
       "      <td>-0.002626</td>\n",
       "      <td>1.000000</td>\n",
       "      <td>-0.000753</td>\n",
       "      <td>0.007996</td>\n",
       "    </tr>\n",
       "    <tr>\n",
       "      <th>Rating</th>\n",
       "      <td>0.003913</td>\n",
       "      <td>-0.000753</td>\n",
       "      <td>1.000000</td>\n",
       "      <td>0.002461</td>\n",
       "    </tr>\n",
       "    <tr>\n",
       "      <th>No of Users Purchased</th>\n",
       "      <td>-0.002747</td>\n",
       "      <td>0.007996</td>\n",
       "      <td>0.002461</td>\n",
       "      <td>1.000000</td>\n",
       "    </tr>\n",
       "  </tbody>\n",
       "</table>\n",
       "</div>"
      ],
      "text/plain": [
       "                       MRP/Unit  Product ID    Rating  No of Users Purchased\n",
       "MRP/Unit               1.000000   -0.002626  0.003913              -0.002747\n",
       "Product ID            -0.002626    1.000000 -0.000753               0.007996\n",
       "Rating                 0.003913   -0.000753  1.000000               0.002461\n",
       "No of Users Purchased -0.002747    0.007996  0.002461               1.000000"
      ]
     },
     "execution_count": 32,
     "metadata": {},
     "output_type": "execute_result"
    }
   ],
   "source": [
    "# To find the correlation among\n",
    "# the columns using pearson method\n",
    "inventory_df.corr(method ='pearson')"
   ]
  },
  {
   "cell_type": "markdown",
   "id": "bfbfd4f4",
   "metadata": {
    "papermill": {
     "duration": 0.031683,
     "end_time": "2022-03-20T12:53:21.018384",
     "exception": false,
     "start_time": "2022-03-20T12:53:20.986701",
     "status": "completed"
    },
    "tags": []
   },
   "source": [
    "# Save the file into local machine"
   ]
  },
  {
   "cell_type": "code",
   "execution_count": 33,
   "id": "f44d4e2f-3fe9-4b17-aa7a-e601fdbd16e0",
   "metadata": {
    "execution": {
     "iopub.execute_input": "2022-03-20T12:53:21.084001Z",
     "iopub.status.busy": "2022-03-20T12:53:21.084001Z",
     "iopub.status.idle": "2022-03-20T12:53:21.100087Z",
     "shell.execute_reply": "2022-03-20T12:53:21.099121Z"
    },
    "papermill": {
     "duration": 0.04613,
     "end_time": "2022-03-20T12:53:21.101002",
     "exception": false,
     "start_time": "2022-03-20T12:53:21.054872",
     "status": "completed"
    },
    "tags": []
   },
   "outputs": [],
   "source": [
    "inventory_df.drop(['Sub Category', 'Brand Name', 'No of Users Purchased'], axis=1, inplace=True)"
   ]
  },
  {
   "cell_type": "code",
   "execution_count": 34,
   "id": "5ed60c79-6191-4b94-9c53-90fe7fa42fec",
   "metadata": {
    "execution": {
     "iopub.execute_input": "2022-03-20T12:53:21.159829Z",
     "iopub.status.busy": "2022-03-20T12:53:21.159829Z",
     "iopub.status.idle": "2022-03-20T12:53:21.178765Z",
     "shell.execute_reply": "2022-03-20T12:53:21.178765Z"
    },
    "papermill": {
     "duration": 0.051411,
     "end_time": "2022-03-20T12:53:21.181163",
     "exception": false,
     "start_time": "2022-03-20T12:53:21.129752",
     "status": "completed"
    },
    "tags": []
   },
   "outputs": [],
   "source": [
    "inventory_df.rename(columns = {'Category':'Sub_Category_Name', 'Simplified Category':'Category_Name','Product Name':'Product_Name', 'MRP/Unit':'Price','Product ID':'productid', 'Image URL':'Image', 'Rating':'Product_Rating'}, inplace= True)"
   ]
  },
  {
   "cell_type": "code",
   "execution_count": 35,
   "id": "e2a7deef",
   "metadata": {
    "execution": {
     "iopub.execute_input": "2022-03-20T12:53:21.240584Z",
     "iopub.status.busy": "2022-03-20T12:53:21.240584Z",
     "iopub.status.idle": "2022-03-20T12:53:21.351410Z",
     "shell.execute_reply": "2022-03-20T12:53:21.350513Z"
    },
    "papermill": {
     "duration": 0.143246,
     "end_time": "2022-03-20T12:53:21.352407",
     "exception": false,
     "start_time": "2022-03-20T12:53:21.209161",
     "status": "completed"
    },
    "tags": []
   },
   "outputs": [],
   "source": [
    "inventory_df.to_csv(preprocessed_data, index=False)"
   ]
  }
 ],
 "metadata": {
  "kernelspec": {
   "display_name": "Python 3 (ipykernel)",
   "language": "python",
   "name": "python3"
  },
  "language_info": {
   "codemirror_mode": {
    "name": "ipython",
    "version": 3
   },
   "file_extension": ".py",
   "mimetype": "text/x-python",
   "name": "python",
   "nbconvert_exporter": "python",
   "pygments_lexer": "ipython3",
   "version": "3.10.2"
  },
  "papermill": {
   "default_parameters": {},
   "duration": 18.415975,
   "end_time": "2022-03-20T12:53:21.821046",
   "environment_variables": {},
   "exception": null,
   "input_path": ".//notebooks//input//Grocery_Data_Preprocessing.ipynb",
   "output_path": ".//notebooks//output//20_3_2022__18_23_3_Grocery_Data_Preprocessing.ipynb",
   "parameters": {
    "batch_id": 5,
    "current_time": "20_3_2022__18_23_3",
    "preprocessed_data": ".//data//processed//20_3_2022__18_23_3_Grocery, Fruits and Dry Fruits.csv",
    "source_data": ".//data//source//Grocery, Fruits and Dry Fruits.csv",
    "source_notebook": ".//notebooks//input//Grocery_Data_Preprocessing.ipynb",
    "unprocessed_data": ".//data//unprocessed//20_3_2022__18_23_3_unprocessed_Grocery, Fruits and Dry Fruits.csv"
   },
   "start_time": "2022-03-20T12:53:03.405071",
   "version": "2.3.4"
  }
 },
 "nbformat": 4,
 "nbformat_minor": 5
}